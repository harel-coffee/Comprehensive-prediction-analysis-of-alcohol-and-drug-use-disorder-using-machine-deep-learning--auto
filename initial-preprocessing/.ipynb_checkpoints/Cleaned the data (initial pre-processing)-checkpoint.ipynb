{
 "cells": [
  {
   "cell_type": "markdown",
   "id": "metallic-glance",
   "metadata": {},
   "source": [
    "## First Step :\n",
    "### Our goal is dealing to NaN values wisely way.  "
   ]
  },
  {
   "cell_type": "code",
   "execution_count": 1,
   "id": "binary-pickup",
   "metadata": {},
   "outputs": [],
   "source": [
    "import pandas as pd\n",
    "import numpy as np\n",
    "df1 =pd.read_csv(\"final_merged.csv\")\n",
    "sum_column = df1['PHQ+AF8-1']+df1['PHQ+AF8-2']+df1['PHQ+AF8-3']+df1['PHQ+AF8-4']+df1['PHQ+AF8-5']+df1['PHQ+AF8-6']+df1['PHQ+AF8-7']+df1['PHQ+AF8-8']+df1['PHQ+AF8-9']\n",
    "df1[\"PHQ\"] = sum_column\n",
    "df =df1.iloc[:,2:59]\n",
    "df[\"PHQ\"] =df1[\"PHQ\"]\n",
    "columns=df.columns\n",
    "# df=df.dropna()\n",
    "#list(df.columns)"
   ]
  },
  {
   "cell_type": "markdown",
   "id": "extended-expression",
   "metadata": {},
   "source": [
    "###  There are 6979 rows . we will check the data we have  in each columns"
   ]
  },
  {
   "cell_type": "code",
   "execution_count": 2,
   "id": "heated-logging",
   "metadata": {},
   "outputs": [
    {
     "data": {
      "text/plain": [
       "BIRTH             6340\n",
       "SEX               6337\n",
       "HISPANIC          6229\n",
       "RACE              6340\n",
       "VET               5370\n",
       "ACTIVE            1400\n",
       "DEPLOY            1400\n",
       "MILFAM             778\n",
       "AUDIT             6340\n",
       "DAST              6340\n",
       "COSCREEN          6340\n",
       "SCREEN            6340\n",
       "BI                6340\n",
       "BT                6340\n",
       "RT                6340\n",
       "ANYALC             803\n",
       "BINGEDAYS          811\n",
       "DRUGDAYS           804\n",
       "ALCDRUGS           805\n",
       "DAYSCOCAINE        805\n",
       "MARYJDAYS          805\n",
       "ANYOPIATEDAYS      804\n",
       "METHADONE          805\n",
       "HALLUC             805\n",
       "METHDAYS           805\n",
       "OTHERDRUGS         804\n",
       "INJECT             808\n",
       "WHERELIVE          118\n",
       "PREGNANT           119\n",
       "CHILDREN           119\n",
       "JOBTRAIN           119\n",
       "EDUC               119\n",
       "EMPLOY             119\n",
       "INCOME             118\n",
       "ARRESTED           119\n",
       "CRIMES             119\n",
       "HEALTHSTAT         119\n",
       "ANYSEX             119\n",
       "SEXCONTACT         118\n",
       "SEXUNPROTECT       118\n",
       "EVERHIVT           117\n",
       "HIVRESULT           90\n",
       "DEPRESSDAYS        119\n",
       "ANXIETYDAYS        119\n",
       "HALLUCINATE        119\n",
       "MEMORYBAD          119\n",
       "SUICIDEATTEMPT     119\n",
       "ATTENDAA           119\n",
       "AATIMES            119\n",
       "ATTENDRELIGION     119\n",
       "RELIGIONTIMES      119\n",
       "ATTENDOTHER        119\n",
       "OTHERTIMES         119\n",
       "FAMILYINT          119\n",
       "SBIRTCONT          119\n",
       "AGE               6371\n",
       "TOBMONTH          6294\n",
       "PHQ                 83\n",
       "dtype: int64"
      ]
     },
     "execution_count": 2,
     "metadata": {},
     "output_type": "execute_result"
    }
   ],
   "source": [
    "df.notnull().sum()"
   ]
  },
  {
   "cell_type": "markdown",
   "id": "parental-international",
   "metadata": {},
   "source": [
    "## Matched btween AGE and BIRTH"
   ]
  },
  {
   "cell_type": "code",
   "execution_count": 3,
   "id": "consecutive-antigua",
   "metadata": {},
   "outputs": [
    {
     "name": "stdout",
     "output_type": "stream",
     "text": [
      "0\n",
      "55\n"
     ]
    }
   ],
   "source": [
    "print(columns.get_loc(\"BIRTH\"))\n",
    "print(columns.get_loc(\"AGE\"))"
   ]
  },
  {
   "cell_type": "code",
   "execution_count": 4,
   "id": "controlling-trading",
   "metadata": {},
   "outputs": [
    {
     "data": {
      "text/plain": [
       "607"
      ]
     },
     "execution_count": 4,
     "metadata": {},
     "output_type": "execute_result"
    }
   ],
   "source": [
    "x=np.where( (df['AGE'].notnull()) & (df['BIRTH'].isnull()))[0]\n",
    "len(x)"
   ]
  },
  {
   "cell_type": "code",
   "execution_count": 5,
   "id": "awful-delaware",
   "metadata": {},
   "outputs": [
    {
     "data": {
      "text/plain": [
       "576"
      ]
     },
     "execution_count": 5,
     "metadata": {},
     "output_type": "execute_result"
    }
   ],
   "source": [
    "y=np.where( (df['AGE'].isnull()) & (df['BIRTH'].notnull()))[0]\n",
    "len(y)"
   ]
  },
  {
   "cell_type": "code",
   "execution_count": 6,
   "id": "subtle-draft",
   "metadata": {},
   "outputs": [],
   "source": [
    "for i in y:\n",
    "    df.iloc[i,55]=2021-df.iloc[i,0]"
   ]
  },
  {
   "cell_type": "code",
   "execution_count": 7,
   "id": "whole-participation",
   "metadata": {},
   "outputs": [],
   "source": [
    "for i in x:\n",
    "    df.iloc[i,0]=2021-df.iloc[i,55]"
   ]
  },
  {
   "cell_type": "code",
   "execution_count": 8,
   "id": "natural-grill",
   "metadata": {},
   "outputs": [
    {
     "data": {
      "text/plain": [
       "BIRTH             6947\n",
       "SEX               6337\n",
       "HISPANIC          6229\n",
       "RACE              6340\n",
       "VET               5370\n",
       "ACTIVE            1400\n",
       "DEPLOY            1400\n",
       "MILFAM             778\n",
       "AUDIT             6340\n",
       "DAST              6340\n",
       "COSCREEN          6340\n",
       "SCREEN            6340\n",
       "BI                6340\n",
       "BT                6340\n",
       "RT                6340\n",
       "ANYALC             803\n",
       "BINGEDAYS          811\n",
       "DRUGDAYS           804\n",
       "ALCDRUGS           805\n",
       "DAYSCOCAINE        805\n",
       "MARYJDAYS          805\n",
       "ANYOPIATEDAYS      804\n",
       "METHADONE          805\n",
       "HALLUC             805\n",
       "METHDAYS           805\n",
       "OTHERDRUGS         804\n",
       "INJECT             808\n",
       "WHERELIVE          118\n",
       "PREGNANT           119\n",
       "CHILDREN           119\n",
       "JOBTRAIN           119\n",
       "EDUC               119\n",
       "EMPLOY             119\n",
       "INCOME             118\n",
       "ARRESTED           119\n",
       "CRIMES             119\n",
       "HEALTHSTAT         119\n",
       "ANYSEX             119\n",
       "SEXCONTACT         118\n",
       "SEXUNPROTECT       118\n",
       "EVERHIVT           117\n",
       "HIVRESULT           90\n",
       "DEPRESSDAYS        119\n",
       "ANXIETYDAYS        119\n",
       "HALLUCINATE        119\n",
       "MEMORYBAD          119\n",
       "SUICIDEATTEMPT     119\n",
       "ATTENDAA           119\n",
       "AATIMES            119\n",
       "ATTENDRELIGION     119\n",
       "RELIGIONTIMES      119\n",
       "ATTENDOTHER        119\n",
       "OTHERTIMES         119\n",
       "FAMILYINT          119\n",
       "SBIRTCONT          119\n",
       "AGE               6947\n",
       "TOBMONTH          6294\n",
       "PHQ                 83\n",
       "dtype: int64"
      ]
     },
     "execution_count": 8,
     "metadata": {},
     "output_type": "execute_result"
    }
   ],
   "source": [
    "df.notnull().sum()"
   ]
  },
  {
   "cell_type": "markdown",
   "id": "floppy-horse",
   "metadata": {},
   "source": [
    "## Matched btween HISPANIC and RACE"
   ]
  },
  {
   "cell_type": "code",
   "execution_count": 9,
   "id": "creative-grove",
   "metadata": {},
   "outputs": [
    {
     "name": "stdout",
     "output_type": "stream",
     "text": [
      "2\n",
      "3\n"
     ]
    }
   ],
   "source": [
    "print(columns.get_loc(\"HISPANIC\"))\n",
    "print(columns.get_loc(\"RACE\"))"
   ]
  },
  {
   "cell_type": "code",
   "execution_count": 10,
   "id": "light-detector",
   "metadata": {},
   "outputs": [
    {
     "data": {
      "text/plain": [
       "0"
      ]
     },
     "execution_count": 10,
     "metadata": {},
     "output_type": "execute_result"
    }
   ],
   "source": [
    "x=np.where((df['HISPANIC']==1) & (df['RACE'].isnull()))[0] ## if not 0 we can match it with RACE=3\n",
    "len(x)"
   ]
  },
  {
   "cell_type": "code",
   "execution_count": 11,
   "id": "outside-indiana",
   "metadata": {},
   "outputs": [
    {
     "data": {
      "text/plain": [
       "73"
      ]
     },
     "execution_count": 11,
     "metadata": {},
     "output_type": "execute_result"
    }
   ],
   "source": [
    "x=np.where((df['RACE']==2) & (df['HISPANIC'].isnull()))[0] \n",
    "len(x)"
   ]
  },
  {
   "cell_type": "markdown",
   "id": "available-storage",
   "metadata": {},
   "source": [
    "## Matched btween VET ACTIVE and DEPLOY \n",
    "\n",
    "     ### DEPLOY – deployed to combat (Have you ever been deployed to a combat zone? \n",
    "        ### 0 = never\n",
    "        ### 1 = yes, Vietnam\n",
    "        ### 2 = yes, Persian Gulf\n",
    "        ### 3 = yes, Korea\n",
    "        ### 4 = yes, Iraq or Afghanistan\n",
    "        ### 5 = yes, other (e.g., Bosnia)\n",
    "    ### MILFAM – from military family  (Required) (Note : missing Data)\n",
    "        ### 0 = no\n",
    "        ### 1 = yes"
   ]
  },
  {
   "cell_type": "code",
   "execution_count": 12,
   "id": "minus-unknown",
   "metadata": {},
   "outputs": [
    {
     "data": {
      "text/plain": [
       "0"
      ]
     },
     "execution_count": 12,
     "metadata": {},
     "output_type": "execute_result"
    }
   ],
   "source": [
    "x=np.where( (df['ACTIVE'].notnull()) & (df['VET'].isnull()))[0]\n",
    "len(x)"
   ]
  },
  {
   "cell_type": "code",
   "execution_count": 13,
   "id": "tutorial-hardware",
   "metadata": {},
   "outputs": [
    {
     "name": "stdout",
     "output_type": "stream",
     "text": [
      "6\n",
      "5\n",
      "4\n",
      "7\n"
     ]
    }
   ],
   "source": [
    "print(columns.get_loc(\"DEPLOY\"))\n",
    "print(columns.get_loc(\"ACTIVE\"))\n",
    "print(columns.get_loc(\"VET\"))\n",
    "print(columns.get_loc(\"MILFAM\"))"
   ]
  },
  {
   "cell_type": "code",
   "execution_count": 14,
   "id": "brief-amount",
   "metadata": {},
   "outputs": [
    {
     "data": {
      "text/plain": [
       "0"
      ]
     },
     "execution_count": 14,
     "metadata": {},
     "output_type": "execute_result"
    }
   ],
   "source": [
    "y=np.where( (df['DEPLOY'].notnull()) & (df['VET'].isnull()))[0]\n",
    "len(y)"
   ]
  },
  {
   "cell_type": "code",
   "execution_count": 15,
   "id": "indonesian-removal",
   "metadata": {},
   "outputs": [
    {
     "data": {
      "text/plain": [
       "3970"
      ]
     },
     "execution_count": 15,
     "metadata": {},
     "output_type": "execute_result"
    }
   ],
   "source": [
    "deploy=np.where( (df['DEPLOY'].isnull()) & (df['VET']==0))[0]\n",
    "len(deploy)\n"
   ]
  },
  {
   "cell_type": "code",
   "execution_count": 16,
   "id": "romance-plaza",
   "metadata": {},
   "outputs": [],
   "source": [
    "for i in deploy:\n",
    "    df.iloc[i,6]=0"
   ]
  },
  {
   "cell_type": "code",
   "execution_count": 17,
   "id": "documented-phone",
   "metadata": {},
   "outputs": [
    {
     "data": {
      "text/plain": [
       "3970"
      ]
     },
     "execution_count": 17,
     "metadata": {},
     "output_type": "execute_result"
    }
   ],
   "source": [
    "active=np.where( (df['ACTIVE'].isnull()) & (df['VET']==0))[0]\n",
    "len(active)"
   ]
  },
  {
   "cell_type": "code",
   "execution_count": 18,
   "id": "olive-portland",
   "metadata": {},
   "outputs": [],
   "source": [
    "for i in active:\n",
    "    df.iloc[i,5]=0"
   ]
  },
  {
   "cell_type": "code",
   "execution_count": 19,
   "id": "employed-consolidation",
   "metadata": {},
   "outputs": [
    {
     "data": {
      "text/plain": [
       "1279"
      ]
     },
     "execution_count": 19,
     "metadata": {},
     "output_type": "execute_result"
    }
   ],
   "source": [
    "z=np.where( (df['MILFAM'].isnull()) & (df['VET']==1))[0]\n",
    "len(z)"
   ]
  },
  {
   "cell_type": "code",
   "execution_count": 20,
   "id": "conscious-marijuana",
   "metadata": {},
   "outputs": [
    {
     "data": {
      "text/plain": [
       "85"
      ]
     },
     "execution_count": 20,
     "metadata": {},
     "output_type": "execute_result"
    }
   ],
   "source": [
    "z=np.where( (df['MILFAM']==1) & (df['VET']==0))[0]\n",
    "len(z)"
   ]
  },
  {
   "cell_type": "code",
   "execution_count": 21,
   "id": "opposed-exhibition",
   "metadata": {},
   "outputs": [
    {
     "data": {
      "text/plain": [
       "571"
      ]
     },
     "execution_count": 21,
     "metadata": {},
     "output_type": "execute_result"
    }
   ],
   "source": [
    "z=np.where( (df['MILFAM']==0) & (df['VET']==0))[0]\n",
    "len(z)"
   ]
  },
  {
   "cell_type": "code",
   "execution_count": 22,
   "id": "equal-domain",
   "metadata": {},
   "outputs": [
    {
     "data": {
      "text/plain": [
       "36"
      ]
     },
     "execution_count": 22,
     "metadata": {},
     "output_type": "execute_result"
    }
   ],
   "source": [
    "z=np.where( (df['MILFAM']==1) & (df['VET']==1))[0]\n",
    "len(z)"
   ]
  },
  {
   "cell_type": "markdown",
   "id": "satisfied-volleyball",
   "metadata": {},
   "source": [
    "## Matched btween  PREGNANT and SEX"
   ]
  },
  {
   "cell_type": "code",
   "execution_count": 23,
   "id": "broadband-penny",
   "metadata": {},
   "outputs": [
    {
     "name": "stdout",
     "output_type": "stream",
     "text": [
      "1\n",
      "28\n"
     ]
    },
    {
     "data": {
      "text/plain": [
       "38"
      ]
     },
     "execution_count": 23,
     "metadata": {},
     "output_type": "execute_result"
    }
   ],
   "source": [
    "print(columns.get_loc(\"SEX\"))\n",
    "print(columns.get_loc(\"PREGNANT\"))\n",
    "sex=np.where((df['SEX'].isnull()) & (df['PREGNANT'].notnull()))[0] \n",
    "len(sex)"
   ]
  },
  {
   "cell_type": "code",
   "execution_count": 24,
   "id": "unknown-promise",
   "metadata": {},
   "outputs": [],
   "source": [
    "for i in sex: # if  PREGNANT =yes -----female\n",
    "    df.iloc[i,1]=1"
   ]
  },
  {
   "cell_type": "code",
   "execution_count": 25,
   "id": "coupled-premises",
   "metadata": {},
   "outputs": [
    {
     "data": {
      "text/plain": [
       "2689"
      ]
     },
     "execution_count": 25,
     "metadata": {},
     "output_type": "execute_result"
    }
   ],
   "source": [
    "sex=np.where((df['SEX']==0) & (df['PREGNANT'].isnull()))[0]\n",
    "len(sex)"
   ]
  },
  {
   "cell_type": "code",
   "execution_count": 26,
   "id": "reserved-eating",
   "metadata": {},
   "outputs": [],
   "source": [
    "for i in sex:\n",
    "    df.iloc[i,28]=0"
   ]
  },
  {
   "cell_type": "code",
   "execution_count": 27,
   "id": "decreased-cursor",
   "metadata": {},
   "outputs": [
    {
     "data": {
      "text/plain": [
       "BIRTH             6947\n",
       "SEX               6375\n",
       "HISPANIC          6229\n",
       "RACE              6340\n",
       "VET               5370\n",
       "ACTIVE            5370\n",
       "DEPLOY            5370\n",
       "MILFAM             778\n",
       "AUDIT             6340\n",
       "DAST              6340\n",
       "COSCREEN          6340\n",
       "SCREEN            6340\n",
       "BI                6340\n",
       "BT                6340\n",
       "RT                6340\n",
       "ANYALC             803\n",
       "BINGEDAYS          811\n",
       "DRUGDAYS           804\n",
       "ALCDRUGS           805\n",
       "DAYSCOCAINE        805\n",
       "MARYJDAYS          805\n",
       "ANYOPIATEDAYS      804\n",
       "METHADONE          805\n",
       "HALLUC             805\n",
       "METHDAYS           805\n",
       "OTHERDRUGS         804\n",
       "INJECT             808\n",
       "WHERELIVE          118\n",
       "PREGNANT          4028\n",
       "CHILDREN           119\n",
       "JOBTRAIN           119\n",
       "EDUC               119\n",
       "EMPLOY             119\n",
       "INCOME             118\n",
       "ARRESTED           119\n",
       "CRIMES             119\n",
       "HEALTHSTAT         119\n",
       "ANYSEX             119\n",
       "SEXCONTACT         118\n",
       "SEXUNPROTECT       118\n",
       "EVERHIVT           117\n",
       "HIVRESULT           90\n",
       "DEPRESSDAYS        119\n",
       "ANXIETYDAYS        119\n",
       "HALLUCINATE        119\n",
       "MEMORYBAD          119\n",
       "SUICIDEATTEMPT     119\n",
       "ATTENDAA           119\n",
       "AATIMES            119\n",
       "ATTENDRELIGION     119\n",
       "RELIGIONTIMES      119\n",
       "ATTENDOTHER        119\n",
       "OTHERTIMES         119\n",
       "FAMILYINT          119\n",
       "SBIRTCONT          119\n",
       "AGE               6947\n",
       "TOBMONTH          6294\n",
       "PHQ                 83\n",
       "dtype: int64"
      ]
     },
     "execution_count": 27,
     "metadata": {},
     "output_type": "execute_result"
    }
   ],
   "source": [
    "df.notnull().sum()"
   ]
  },
  {
   "cell_type": "markdown",
   "id": "encouraging-apparel",
   "metadata": {},
   "source": [
    "## FIXED ANYALC (column) – days used any alcohol in past month\n",
    "     ### questions are related to 1) How often do you have a drink containing alcohol? (column: 'Audit+AF8-1' )\n",
    "     ### 2) How often do you have X (5 for men; 4 for women and men over age 65) or more drinks on one occasion?        (column: 'Audit+AF8-2' )\n",
    "     ### 3) AUDIT <7  A score of 1 to 7 suggests low-risk consumption according to World Health Organization (WHO)      guidelines."
   ]
  },
  {
   "cell_type": "code",
   "execution_count": 28,
   "id": "blond-pledge",
   "metadata": {},
   "outputs": [
    {
     "name": "stdout",
     "output_type": "stream",
     "text": [
      "8\n",
      "15\n"
     ]
    }
   ],
   "source": [
    "print(columns.get_loc(\"AUDIT\"))\n",
    "print(columns.get_loc(\"ANYALC\"))"
   ]
  },
  {
   "cell_type": "code",
   "execution_count": 29,
   "id": "suitable-given",
   "metadata": {},
   "outputs": [
    {
     "data": {
      "text/plain": [
       "['Row',\n",
       " 'ClientID',\n",
       " 'BIRTH',\n",
       " 'SEX',\n",
       " 'HISPANIC',\n",
       " 'RACE',\n",
       " 'VET',\n",
       " 'ACTIVE',\n",
       " 'DEPLOY',\n",
       " 'MILFAM',\n",
       " 'AUDIT',\n",
       " 'DAST',\n",
       " 'COSCREEN',\n",
       " 'SCREEN',\n",
       " 'BI',\n",
       " 'BT',\n",
       " 'RT',\n",
       " 'ANYALC',\n",
       " 'BINGEDAYS',\n",
       " 'DRUGDAYS',\n",
       " 'ALCDRUGS',\n",
       " 'DAYSCOCAINE',\n",
       " 'MARYJDAYS',\n",
       " 'ANYOPIATEDAYS',\n",
       " 'METHADONE',\n",
       " 'HALLUC',\n",
       " 'METHDAYS',\n",
       " 'OTHERDRUGS',\n",
       " 'INJECT',\n",
       " 'WHERELIVE',\n",
       " 'PREGNANT',\n",
       " 'CHILDREN',\n",
       " 'JOBTRAIN',\n",
       " 'EDUC',\n",
       " 'EMPLOY',\n",
       " 'INCOME',\n",
       " 'ARRESTED',\n",
       " 'CRIMES',\n",
       " 'HEALTHSTAT',\n",
       " 'ANYSEX',\n",
       " 'SEXCONTACT',\n",
       " 'SEXUNPROTECT',\n",
       " 'EVERHIVT',\n",
       " 'HIVRESULT',\n",
       " 'DEPRESSDAYS',\n",
       " 'ANXIETYDAYS',\n",
       " 'HALLUCINATE',\n",
       " 'MEMORYBAD',\n",
       " 'SUICIDEATTEMPT',\n",
       " 'ATTENDAA',\n",
       " 'AATIMES',\n",
       " 'ATTENDRELIGION',\n",
       " 'RELIGIONTIMES',\n",
       " 'ATTENDOTHER',\n",
       " 'OTHERTIMES',\n",
       " 'FAMILYINT',\n",
       " 'SBIRTCONT',\n",
       " 'AGE',\n",
       " 'TOBMONTH',\n",
       " 'Audit+AF8-1',\n",
       " 'Audit+AF8-2',\n",
       " 'Audit+AF8-3',\n",
       " 'Audit+AF8-4',\n",
       " 'Audit+AF8-5',\n",
       " 'Audit+AF8-6',\n",
       " 'Audit+AF8-7',\n",
       " 'Audit+AF8-8',\n",
       " 'Audit+AF8-9',\n",
       " 'Audit+AF8-10',\n",
       " 'Dast+AF8-1',\n",
       " 'Dast+AF8-2',\n",
       " 'Dast+AF8-3',\n",
       " 'Dast+AF8-4',\n",
       " 'Dast+AF8-5',\n",
       " 'Dast+AF8-6',\n",
       " 'Dast+AF8-7',\n",
       " 'Dast+AF8-8',\n",
       " 'Dast+AF8-9',\n",
       " 'Dast+AF8-10',\n",
       " 'PHQ+AF8-1',\n",
       " 'PHQ+AF8-2',\n",
       " 'PHQ+AF8-3',\n",
       " 'PHQ+AF8-4',\n",
       " 'PHQ+AF8-5',\n",
       " 'PHQ+AF8-6',\n",
       " 'PHQ+AF8-7',\n",
       " 'PHQ+AF8-8',\n",
       " 'PHQ+AF8-9',\n",
       " 'PHQ']"
      ]
     },
     "execution_count": 29,
     "metadata": {},
     "output_type": "execute_result"
    }
   ],
   "source": [
    "columns1=df1.columns\n",
    "list(df1.columns)"
   ]
  },
  {
   "cell_type": "code",
   "execution_count": 30,
   "id": "greatest-berlin",
   "metadata": {},
   "outputs": [
    {
     "name": "stdout",
     "output_type": "stream",
     "text": [
      "59\n",
      "60\n"
     ]
    }
   ],
   "source": [
    "print(columns1.get_loc(\"Audit+AF8-1\"))\n",
    "print(columns1.get_loc(\"Audit+AF8-2\"))"
   ]
  },
  {
   "cell_type": "code",
   "execution_count": 31,
   "id": "raised-railway",
   "metadata": {},
   "outputs": [
    {
     "data": {
      "text/plain": [
       "3094"
      ]
     },
     "execution_count": 31,
     "metadata": {},
     "output_type": "execute_result"
    }
   ],
   "source": [
    "audit=np.where( (df1['Audit+AF8-1']==0) & (df['ANYALC'].isnull()))[0]\n",
    "len(audit)"
   ]
  },
  {
   "cell_type": "code",
   "execution_count": 32,
   "id": "weighted-swift",
   "metadata": {},
   "outputs": [],
   "source": [
    "for i in audit: \n",
    "    df.iloc[i,15]=0"
   ]
  },
  {
   "cell_type": "code",
   "execution_count": 33,
   "id": "frozen-bottle",
   "metadata": {},
   "outputs": [
    {
     "data": {
      "text/plain": [
       "1312"
      ]
     },
     "execution_count": 33,
     "metadata": {},
     "output_type": "execute_result"
    }
   ],
   "source": [
    "audit1=np.where( (df1['Audit+AF8-2']==0) & (df['ANYALC'].isnull()))[0]\n",
    "len(audit1)"
   ]
  },
  {
   "cell_type": "code",
   "execution_count": 34,
   "id": "heated-melissa",
   "metadata": {},
   "outputs": [],
   "source": [
    "for i in audit1: \n",
    "    df.iloc[i,15]=0"
   ]
  },
  {
   "cell_type": "code",
   "execution_count": 35,
   "id": "absolute-barrel",
   "metadata": {},
   "outputs": [
    {
     "data": {
      "text/plain": [
       "242"
      ]
     },
     "execution_count": 35,
     "metadata": {},
     "output_type": "execute_result"
    }
   ],
   "source": [
    "audit2=np.where( (df['AUDIT']==0) & (df['ANYALC'].isnull()))[0]\n",
    "len(audit2)"
   ]
  },
  {
   "cell_type": "code",
   "execution_count": 36,
   "id": "interracial-joint",
   "metadata": {},
   "outputs": [],
   "source": [
    "for i in audit2: \n",
    "    df.iloc[i,15]=0"
   ]
  },
  {
   "cell_type": "code",
   "execution_count": 37,
   "id": "virgin-livestock",
   "metadata": {},
   "outputs": [
    {
     "data": {
      "text/plain": [
       "BIRTH             6947\n",
       "SEX               6375\n",
       "HISPANIC          6229\n",
       "RACE              6340\n",
       "VET               5370\n",
       "ACTIVE            5370\n",
       "DEPLOY            5370\n",
       "MILFAM             778\n",
       "AUDIT             6340\n",
       "DAST              6340\n",
       "COSCREEN          6340\n",
       "SCREEN            6340\n",
       "BI                6340\n",
       "BT                6340\n",
       "RT                6340\n",
       "ANYALC            5451\n",
       "BINGEDAYS          811\n",
       "DRUGDAYS           804\n",
       "ALCDRUGS           805\n",
       "DAYSCOCAINE        805\n",
       "MARYJDAYS          805\n",
       "ANYOPIATEDAYS      804\n",
       "METHADONE          805\n",
       "HALLUC             805\n",
       "METHDAYS           805\n",
       "OTHERDRUGS         804\n",
       "INJECT             808\n",
       "WHERELIVE          118\n",
       "PREGNANT          4028\n",
       "CHILDREN           119\n",
       "JOBTRAIN           119\n",
       "EDUC               119\n",
       "EMPLOY             119\n",
       "INCOME             118\n",
       "ARRESTED           119\n",
       "CRIMES             119\n",
       "HEALTHSTAT         119\n",
       "ANYSEX             119\n",
       "SEXCONTACT         118\n",
       "SEXUNPROTECT       118\n",
       "EVERHIVT           117\n",
       "HIVRESULT           90\n",
       "DEPRESSDAYS        119\n",
       "ANXIETYDAYS        119\n",
       "HALLUCINATE        119\n",
       "MEMORYBAD          119\n",
       "SUICIDEATTEMPT     119\n",
       "ATTENDAA           119\n",
       "AATIMES            119\n",
       "ATTENDRELIGION     119\n",
       "RELIGIONTIMES      119\n",
       "ATTENDOTHER        119\n",
       "OTHERTIMES         119\n",
       "FAMILYINT          119\n",
       "SBIRTCONT          119\n",
       "AGE               6947\n",
       "TOBMONTH          6294\n",
       "PHQ                 83\n",
       "dtype: int64"
      ]
     },
     "execution_count": 37,
     "metadata": {},
     "output_type": "execute_result"
    }
   ],
   "source": [
    "df.notnull().sum()"
   ]
  },
  {
   "cell_type": "markdown",
   "id": "filled-there",
   "metadata": {},
   "source": [
    "## FIXED BINGEDAYS (column) – number of days drank 5 drinks or more in one sitting in past month\n",
    "     ### questions are related to 1) How often do you have a drink containing alcohol? (column: 'Audit+AF8-1' )\n",
    "     ### 2) How often do you have X (5 for men; 4 for women and men over age 65) or more drinks on one occasion?        (column: 'Audit+AF8-2' )\n",
    "     ### 3) AUDIT <7  A score of 1 to 7 suggests low-risk consumption according to World Health Organization (WHO)      guidelines."
   ]
  },
  {
   "cell_type": "code",
   "execution_count": 38,
   "id": "governmental-interference",
   "metadata": {},
   "outputs": [
    {
     "name": "stdout",
     "output_type": "stream",
     "text": [
      "8\n",
      "16\n"
     ]
    }
   ],
   "source": [
    "print(columns.get_loc(\"AUDIT\"))\n",
    "print(columns.get_loc(\"BINGEDAYS\"))"
   ]
  },
  {
   "cell_type": "code",
   "execution_count": 39,
   "id": "ranging-instruction",
   "metadata": {},
   "outputs": [
    {
     "data": {
      "text/plain": [
       "3093"
      ]
     },
     "execution_count": 39,
     "metadata": {},
     "output_type": "execute_result"
    }
   ],
   "source": [
    "x=np.where( (df1['Audit+AF8-1']==0) & (df['BINGEDAYS'].isnull()))[0]\n",
    "len(x)"
   ]
  },
  {
   "cell_type": "code",
   "execution_count": 40,
   "id": "moral-midwest",
   "metadata": {},
   "outputs": [],
   "source": [
    "for i in x: \n",
    "    df.iloc[i,16]=0"
   ]
  },
  {
   "cell_type": "code",
   "execution_count": 41,
   "id": "subsequent-remedy",
   "metadata": {},
   "outputs": [
    {
     "data": {
      "text/plain": [
       "1311"
      ]
     },
     "execution_count": 41,
     "metadata": {},
     "output_type": "execute_result"
    }
   ],
   "source": [
    "y=np.where( (df1['Audit+AF8-2']==0) & (df['BINGEDAYS'].isnull()))[0]\n",
    "len(y)"
   ]
  },
  {
   "cell_type": "code",
   "execution_count": 42,
   "id": "julian-presentation",
   "metadata": {},
   "outputs": [],
   "source": [
    "for i in y: \n",
    "    df.iloc[i,16]=0"
   ]
  },
  {
   "cell_type": "code",
   "execution_count": 43,
   "id": "discrete-glossary",
   "metadata": {},
   "outputs": [
    {
     "data": {
      "text/plain": [
       "242"
      ]
     },
     "execution_count": 43,
     "metadata": {},
     "output_type": "execute_result"
    }
   ],
   "source": [
    "z=np.where( (df['AUDIT']==0) & (df['BINGEDAYS'].isnull()))[0]\n",
    "len(z)"
   ]
  },
  {
   "cell_type": "code",
   "execution_count": 44,
   "id": "infrared-belle",
   "metadata": {},
   "outputs": [],
   "source": [
    "for i in z: \n",
    "    df.iloc[i,16]=0"
   ]
  },
  {
   "cell_type": "code",
   "execution_count": 45,
   "id": "handed-france",
   "metadata": {},
   "outputs": [
    {
     "data": {
      "text/plain": [
       "BIRTH             6947\n",
       "SEX               6375\n",
       "HISPANIC          6229\n",
       "RACE              6340\n",
       "VET               5370\n",
       "ACTIVE            5370\n",
       "DEPLOY            5370\n",
       "MILFAM             778\n",
       "AUDIT             6340\n",
       "DAST              6340\n",
       "COSCREEN          6340\n",
       "SCREEN            6340\n",
       "BI                6340\n",
       "BT                6340\n",
       "RT                6340\n",
       "ANYALC            5451\n",
       "BINGEDAYS         5457\n",
       "DRUGDAYS           804\n",
       "ALCDRUGS           805\n",
       "DAYSCOCAINE        805\n",
       "MARYJDAYS          805\n",
       "ANYOPIATEDAYS      804\n",
       "METHADONE          805\n",
       "HALLUC             805\n",
       "METHDAYS           805\n",
       "OTHERDRUGS         804\n",
       "INJECT             808\n",
       "WHERELIVE          118\n",
       "PREGNANT          4028\n",
       "CHILDREN           119\n",
       "JOBTRAIN           119\n",
       "EDUC               119\n",
       "EMPLOY             119\n",
       "INCOME             118\n",
       "ARRESTED           119\n",
       "CRIMES             119\n",
       "HEALTHSTAT         119\n",
       "ANYSEX             119\n",
       "SEXCONTACT         118\n",
       "SEXUNPROTECT       118\n",
       "EVERHIVT           117\n",
       "HIVRESULT           90\n",
       "DEPRESSDAYS        119\n",
       "ANXIETYDAYS        119\n",
       "HALLUCINATE        119\n",
       "MEMORYBAD          119\n",
       "SUICIDEATTEMPT     119\n",
       "ATTENDAA           119\n",
       "AATIMES            119\n",
       "ATTENDRELIGION     119\n",
       "RELIGIONTIMES      119\n",
       "ATTENDOTHER        119\n",
       "OTHERTIMES         119\n",
       "FAMILYINT          119\n",
       "SBIRTCONT          119\n",
       "AGE               6947\n",
       "TOBMONTH          6294\n",
       "PHQ                 83\n",
       "dtype: int64"
      ]
     },
     "execution_count": 45,
     "metadata": {},
     "output_type": "execute_result"
    }
   ],
   "source": [
    "df.notnull().sum()"
   ]
  },
  {
   "cell_type": "markdown",
   "id": "obvious-witness",
   "metadata": {},
   "source": [
    " ## DRUGDAYS :\n",
    "     ### Have you used drugs other than those required for medical reasons? (column) \"Dast+AF8-1\"\n",
    "     ### Are you always able to stop using drugs when you want to? (If never use drugs, answer \"Yes.\" \"Dast+AF8-3\"\n",
    "     ### Do you ever feel bad or guilty about your drug use? If never use drugs, choose \"No.\" \"Dast+AF8-5\""
   ]
  },
  {
   "cell_type": "code",
   "execution_count": 46,
   "id": "shared-rogers",
   "metadata": {},
   "outputs": [
    {
     "name": "stdout",
     "output_type": "stream",
     "text": [
      "69\n",
      "76\n",
      "73\n",
      "17\n"
     ]
    }
   ],
   "source": [
    "print(columns1.get_loc(\"Dast+AF8-1\"))\n",
    "print(columns1.get_loc(\"Dast+AF8-8\"))\n",
    "print(columns1.get_loc(\"Dast+AF8-5\"))\n",
    "print(columns.get_loc(\"DRUGDAYS\"))"
   ]
  },
  {
   "cell_type": "code",
   "execution_count": 47,
   "id": "minute-developer",
   "metadata": {},
   "outputs": [
    {
     "data": {
      "text/plain": [
       "5637"
      ]
     },
     "execution_count": 47,
     "metadata": {},
     "output_type": "execute_result"
    }
   ],
   "source": [
    "y=np.where( (df1['Dast+AF8-1'].notnull()) & (df['DRUGDAYS'].isnull()))[0]\n",
    "len(y)"
   ]
  },
  {
   "cell_type": "code",
   "execution_count": 48,
   "id": "celtic-yellow",
   "metadata": {},
   "outputs": [
    {
     "data": {
      "text/plain": [
       "5564"
      ]
     },
     "execution_count": 48,
     "metadata": {},
     "output_type": "execute_result"
    }
   ],
   "source": [
    "z=np.where( (df1['Dast+AF8-1']==0) & (df['DRUGDAYS'].isnull()))[0]\n",
    "len(z)"
   ]
  },
  {
   "cell_type": "code",
   "execution_count": 49,
   "id": "individual-monitoring",
   "metadata": {},
   "outputs": [],
   "source": [
    "for i in z: \n",
    "    df.iloc[i,17]=0"
   ]
  },
  {
   "cell_type": "code",
   "execution_count": 50,
   "id": "indian-popularity",
   "metadata": {},
   "outputs": [
    {
     "data": {
      "text/plain": [
       "49"
      ]
     },
     "execution_count": 50,
     "metadata": {},
     "output_type": "execute_result"
    }
   ],
   "source": [
    "z=np.where( (df1['Dast+AF8-3']==0) & (df['DRUGDAYS'].isnull()))[0]\n",
    "len(z)"
   ]
  },
  {
   "cell_type": "code",
   "execution_count": 51,
   "id": "charitable-joint",
   "metadata": {},
   "outputs": [],
   "source": [
    "for i in z: \n",
    "    df.iloc[i,17]=0"
   ]
  },
  {
   "cell_type": "code",
   "execution_count": 52,
   "id": "behind-brake",
   "metadata": {},
   "outputs": [
    {
     "data": {
      "text/plain": [
       "7"
      ]
     },
     "execution_count": 52,
     "metadata": {},
     "output_type": "execute_result"
    }
   ],
   "source": [
    "z=np.where( (df1['Dast+AF8-5']==0) & (df['DRUGDAYS'].isnull()))[0]\n",
    "len(z)"
   ]
  },
  {
   "cell_type": "code",
   "execution_count": 53,
   "id": "received-florist",
   "metadata": {},
   "outputs": [],
   "source": [
    "for i in z: \n",
    "    df.iloc[i,17]=0"
   ]
  },
  {
   "cell_type": "markdown",
   "id": "known-jewelry",
   "metadata": {},
   "source": [
    "## ALCDRUGS : number of days past month used alcohol and drugs \n",
    "     ### Have you used drugs other than those required for medical reasons? (column) \"Dast+AF8-1\"\n",
    "     ### Are you always able to stop using drugs when you want to? (If never use drugs, answer \"Yes.\" \"Dast+AF8-3\"\n",
    "     ### Do you ever feel bad or guilty about your drug use? If never use drugs, choose \"No.\" \"Dast+AF8-5\"\n",
    "     ### questions are related to 1) How often do you have a drink containing alcohol? (column: 'Audit+AF8-1' )\n",
    "     ### 2) How often do you have X (5 for men; 4 for women and men over age 65) or more drinks on one occasion?        (column: 'Audit+AF8-2' )\n",
    "     ### 3) AUDIT <7  A score of 1 to 7 suggests low-risk consumption according to World Health Organization (WHO)      guidelines.   \n"
   ]
  },
  {
   "cell_type": "code",
   "execution_count": 54,
   "id": "chubby-tourist",
   "metadata": {},
   "outputs": [
    {
     "name": "stdout",
     "output_type": "stream",
     "text": [
      "18\n",
      "69\n",
      "76\n",
      "73\n"
     ]
    }
   ],
   "source": [
    "print(columns.get_loc(\"ALCDRUGS\"))\n",
    "print(columns1.get_loc(\"Dast+AF8-1\"))\n",
    "print(columns1.get_loc(\"Dast+AF8-8\"))\n",
    "print(columns1.get_loc(\"Dast+AF8-5\"))"
   ]
  },
  {
   "cell_type": "code",
   "execution_count": 55,
   "id": "systematic-charger",
   "metadata": {},
   "outputs": [
    {
     "data": {
      "text/plain": [
       "3076"
      ]
     },
     "execution_count": 55,
     "metadata": {},
     "output_type": "execute_result"
    }
   ],
   "source": [
    "z=np.where( (df1['Dast+AF8-1']==0) &(df1['Audit+AF8-1']==0) &(df['ALCDRUGS'].isnull()))[0]\n",
    "len(z)"
   ]
  },
  {
   "cell_type": "code",
   "execution_count": 56,
   "id": "color-parent",
   "metadata": {},
   "outputs": [],
   "source": [
    "for i in z: \n",
    "    df.iloc[i,18]=0"
   ]
  },
  {
   "cell_type": "code",
   "execution_count": 57,
   "id": "atomic-excess",
   "metadata": {},
   "outputs": [
    {
     "data": {
      "text/plain": [
       "12"
      ]
     },
     "execution_count": 57,
     "metadata": {},
     "output_type": "execute_result"
    }
   ],
   "source": [
    "z=np.where( (df1['Dast+AF8-3']==0) &(df1['Audit+AF8-1']==0) &(df['ALCDRUGS'].isnull()))[0]\n",
    "len(z)"
   ]
  },
  {
   "cell_type": "code",
   "execution_count": 58,
   "id": "fluid-watson",
   "metadata": {},
   "outputs": [],
   "source": [
    "for i in z: \n",
    "    df.iloc[i,18]=0 "
   ]
  },
  {
   "cell_type": "code",
   "execution_count": 59,
   "id": "auburn-subscription",
   "metadata": {},
   "outputs": [
    {
     "data": {
      "text/plain": [
       "2"
      ]
     },
     "execution_count": 59,
     "metadata": {},
     "output_type": "execute_result"
    }
   ],
   "source": [
    "z=np.where( (df1['Dast+AF8-5']==0) &(df1['Audit+AF8-1']==0) &(df['ALCDRUGS'].isnull()))[0]\n",
    "len(z)"
   ]
  },
  {
   "cell_type": "code",
   "execution_count": 60,
   "id": "million-crown",
   "metadata": {},
   "outputs": [],
   "source": [
    "for i in z: \n",
    "    df.iloc[i,18]=0"
   ]
  },
  {
   "cell_type": "code",
   "execution_count": 61,
   "id": "attended-weekend",
   "metadata": {},
   "outputs": [
    {
     "data": {
      "text/plain": [
       "1300"
      ]
     },
     "execution_count": 61,
     "metadata": {},
     "output_type": "execute_result"
    }
   ],
   "source": [
    "z=np.where( (df1['Dast+AF8-1']==0) &(df1['Audit+AF8-2']==0) &(df['ALCDRUGS'].isnull()))[0]\n",
    "len(z)"
   ]
  },
  {
   "cell_type": "code",
   "execution_count": 62,
   "id": "welsh-publication",
   "metadata": {},
   "outputs": [],
   "source": [
    "for i in z: \n",
    "    df.iloc[i,18]=0"
   ]
  },
  {
   "cell_type": "code",
   "execution_count": 63,
   "id": "rough-prairie",
   "metadata": {},
   "outputs": [
    {
     "data": {
      "text/plain": [
       "6"
      ]
     },
     "execution_count": 63,
     "metadata": {},
     "output_type": "execute_result"
    }
   ],
   "source": [
    "z=np.where( (df1['Dast+AF8-3']==0) &(df1['Audit+AF8-2']==0) &(df['ALCDRUGS'].isnull()))[0]\n",
    "len(z)"
   ]
  },
  {
   "cell_type": "code",
   "execution_count": 64,
   "id": "crude-webster",
   "metadata": {},
   "outputs": [],
   "source": [
    "for i in z: \n",
    "    df.iloc[i,18]=0"
   ]
  },
  {
   "cell_type": "code",
   "execution_count": 65,
   "id": "bizarre-firmware",
   "metadata": {},
   "outputs": [
    {
     "data": {
      "text/plain": [
       "1"
      ]
     },
     "execution_count": 65,
     "metadata": {},
     "output_type": "execute_result"
    }
   ],
   "source": [
    "z=np.where( (df1['Dast+AF8-5']==0) &(df1['Audit+AF8-2']==0) &(df['ALCDRUGS'].isnull()))[0]\n",
    "len(z)"
   ]
  },
  {
   "cell_type": "code",
   "execution_count": 66,
   "id": "turkish-traffic",
   "metadata": {},
   "outputs": [],
   "source": [
    "for i in z: \n",
    "    df.iloc[i,18]=0"
   ]
  },
  {
   "cell_type": "code",
   "execution_count": 67,
   "id": "convertible-parliament",
   "metadata": {},
   "outputs": [
    {
     "data": {
      "text/plain": [
       "8"
      ]
     },
     "execution_count": 67,
     "metadata": {},
     "output_type": "execute_result"
    }
   ],
   "source": [
    "z=np.where( (df1['Dast+AF8-1']==0) &(df['AUDIT']==0) &(df['ALCDRUGS'].isnull()))[0]\n",
    "len(z)"
   ]
  },
  {
   "cell_type": "code",
   "execution_count": 68,
   "id": "trained-object",
   "metadata": {},
   "outputs": [],
   "source": [
    "for i in z: \n",
    "    df.iloc[i,18]=0"
   ]
  },
  {
   "cell_type": "code",
   "execution_count": 167,
   "id": "substantial-torture",
   "metadata": {},
   "outputs": [
    {
     "data": {
      "text/plain": [
       "1"
      ]
     },
     "execution_count": 167,
     "metadata": {},
     "output_type": "execute_result"
    }
   ],
   "source": [
    "z=np.where( (df1['Dast+AF8-3']==0) &(df['AUDIT']==0) &(df['ALCDRUGS'].isnull()))[0]\n",
    "len(z)"
   ]
  },
  {
   "cell_type": "code",
   "execution_count": 70,
   "id": "active-liberal",
   "metadata": {},
   "outputs": [],
   "source": [
    "for i in z: \n",
    "    df.iloc[i,18]=0"
   ]
  },
  {
   "cell_type": "code",
   "execution_count": 71,
   "id": "macro-baking",
   "metadata": {},
   "outputs": [
    {
     "data": {
      "text/plain": [
       "0"
      ]
     },
     "execution_count": 71,
     "metadata": {},
     "output_type": "execute_result"
    }
   ],
   "source": [
    "z=np.where( (df1['Dast+AF8-5']==0) &(df['AUDIT']==0) &(df['ALCDRUGS'].isnull()))[0]\n",
    "len(z)"
   ]
  },
  {
   "cell_type": "code",
   "execution_count": 72,
   "id": "military-economy",
   "metadata": {},
   "outputs": [],
   "source": [
    "for i in z: \n",
    "    df.iloc[i,18]=0"
   ]
  },
  {
   "cell_type": "code",
   "execution_count": 73,
   "id": "linear-digit",
   "metadata": {},
   "outputs": [
    {
     "data": {
      "text/plain": [
       "BIRTH             6947\n",
       "SEX               6375\n",
       "HISPANIC          6229\n",
       "RACE              6340\n",
       "VET               5370\n",
       "ACTIVE            5370\n",
       "DEPLOY            5370\n",
       "MILFAM             778\n",
       "AUDIT             6340\n",
       "DAST              6340\n",
       "COSCREEN          6340\n",
       "SCREEN            6340\n",
       "BI                6340\n",
       "BT                6340\n",
       "RT                6340\n",
       "ANYALC            5451\n",
       "BINGEDAYS         5457\n",
       "DRUGDAYS          6424\n",
       "ALCDRUGS          5212\n",
       "DAYSCOCAINE        805\n",
       "MARYJDAYS          805\n",
       "ANYOPIATEDAYS      804\n",
       "METHADONE          805\n",
       "HALLUC             805\n",
       "METHDAYS           805\n",
       "OTHERDRUGS         804\n",
       "INJECT             808\n",
       "WHERELIVE          118\n",
       "PREGNANT          4028\n",
       "CHILDREN           119\n",
       "JOBTRAIN           119\n",
       "EDUC               119\n",
       "EMPLOY             119\n",
       "INCOME             118\n",
       "ARRESTED           119\n",
       "CRIMES             119\n",
       "HEALTHSTAT         119\n",
       "ANYSEX             119\n",
       "SEXCONTACT         118\n",
       "SEXUNPROTECT       118\n",
       "EVERHIVT           117\n",
       "HIVRESULT           90\n",
       "DEPRESSDAYS        119\n",
       "ANXIETYDAYS        119\n",
       "HALLUCINATE        119\n",
       "MEMORYBAD          119\n",
       "SUICIDEATTEMPT     119\n",
       "ATTENDAA           119\n",
       "AATIMES            119\n",
       "ATTENDRELIGION     119\n",
       "RELIGIONTIMES      119\n",
       "ATTENDOTHER        119\n",
       "OTHERTIMES         119\n",
       "FAMILYINT          119\n",
       "SBIRTCONT          119\n",
       "AGE               6947\n",
       "TOBMONTH          6294\n",
       "PHQ                 83\n",
       "dtype: int64"
      ]
     },
     "execution_count": 73,
     "metadata": {},
     "output_type": "execute_result"
    }
   ],
   "source": [
    "df.notnull().sum()"
   ]
  },
  {
   "cell_type": "markdown",
   "id": "competent-prototype",
   "metadata": {},
   "source": [
    "### DAYSCOCAINE  : number of days past month used cocaine\n",
    "Have you used drugs other than those required for medical reasons? (column) \"Dast+AF8-1\""
   ]
  },
  {
   "cell_type": "code",
   "execution_count": 74,
   "id": "confused-oxford",
   "metadata": {},
   "outputs": [
    {
     "data": {
      "text/plain": [
       "5563"
      ]
     },
     "execution_count": 74,
     "metadata": {},
     "output_type": "execute_result"
    }
   ],
   "source": [
    "y=np.where( (df1['Dast+AF8-1']==0) & (df['DAYSCOCAINE'].isnull()))[0]\n",
    "len(y)"
   ]
  },
  {
   "cell_type": "code",
   "execution_count": 75,
   "id": "endangered-trigger",
   "metadata": {},
   "outputs": [
    {
     "name": "stdout",
     "output_type": "stream",
     "text": [
      "19\n"
     ]
    }
   ],
   "source": [
    "print(columns.get_loc(\"DAYSCOCAINE\"))"
   ]
  },
  {
   "cell_type": "code",
   "execution_count": 76,
   "id": "conservative-printer",
   "metadata": {},
   "outputs": [],
   "source": [
    "for i in y: \n",
    "    df.iloc[i,19]=0"
   ]
  },
  {
   "cell_type": "markdown",
   "id": "elementary-chicken",
   "metadata": {},
   "source": [
    "## MARYJDAYS : days of marijuana use\n",
    "    ### Have you used drugs other than those required for medical reasons? (column) \"Dast+AF8-1\""
   ]
  },
  {
   "cell_type": "code",
   "execution_count": 77,
   "id": "legal-intelligence",
   "metadata": {},
   "outputs": [
    {
     "data": {
      "text/plain": [
       "5563"
      ]
     },
     "execution_count": 77,
     "metadata": {},
     "output_type": "execute_result"
    }
   ],
   "source": [
    "y=np.where( (df1['Dast+AF8-1']==0) & (df['MARYJDAYS'].isnull()))[0]\n",
    "len(y)"
   ]
  },
  {
   "cell_type": "code",
   "execution_count": 78,
   "id": "inappropriate-attraction",
   "metadata": {},
   "outputs": [
    {
     "name": "stdout",
     "output_type": "stream",
     "text": [
      "20\n"
     ]
    }
   ],
   "source": [
    "print(columns.get_loc(\"MARYJDAYS\"))"
   ]
  },
  {
   "cell_type": "code",
   "execution_count": 79,
   "id": "compound-coupon",
   "metadata": {},
   "outputs": [],
   "source": [
    "for i in y: \n",
    "    df.iloc[i,20]=0"
   ]
  },
  {
   "cell_type": "markdown",
   "id": "exciting-acquisition",
   "metadata": {},
   "source": [
    "### ANYOPIATEDAYS: days of opiates use\n",
    "    ### Have you used drugs other than those required for medical reasons? (column) \"Dast+AF8-1\""
   ]
  },
  {
   "cell_type": "code",
   "execution_count": 80,
   "id": "innocent-techno",
   "metadata": {},
   "outputs": [
    {
     "data": {
      "text/plain": [
       "5564"
      ]
     },
     "execution_count": 80,
     "metadata": {},
     "output_type": "execute_result"
    }
   ],
   "source": [
    "y=np.where( (df1['Dast+AF8-1']==0) & (df['ANYOPIATEDAYS'].isnull()))[0]\n",
    "len(y)"
   ]
  },
  {
   "cell_type": "code",
   "execution_count": 81,
   "id": "religious-illness",
   "metadata": {},
   "outputs": [
    {
     "name": "stdout",
     "output_type": "stream",
     "text": [
      "21\n"
     ]
    }
   ],
   "source": [
    "print(columns.get_loc(\"ANYOPIATEDAYS\"))"
   ]
  },
  {
   "cell_type": "code",
   "execution_count": 82,
   "id": "representative-technique",
   "metadata": {},
   "outputs": [],
   "source": [
    "for i in y: \n",
    "    df.iloc[i,21]=0"
   ]
  },
  {
   "cell_type": "markdown",
   "id": "distinguished-island",
   "metadata": {},
   "source": [
    "### METHADONE : days of non-prescription methadone use\n",
    "     ### Have you used drugs other than those required for medical reasons? (column) \"Dast+AF8-1\""
   ]
  },
  {
   "cell_type": "code",
   "execution_count": 83,
   "id": "moderate-genesis",
   "metadata": {},
   "outputs": [
    {
     "data": {
      "text/plain": [
       "5563"
      ]
     },
     "execution_count": 83,
     "metadata": {},
     "output_type": "execute_result"
    }
   ],
   "source": [
    "y=np.where( (df1['Dast+AF8-1']==0) & (df['METHADONE'].isnull()))[0]\n",
    "len(y)"
   ]
  },
  {
   "cell_type": "code",
   "execution_count": 84,
   "id": "sharp-workstation",
   "metadata": {},
   "outputs": [
    {
     "name": "stdout",
     "output_type": "stream",
     "text": [
      "22\n"
     ]
    }
   ],
   "source": [
    "print(columns.get_loc(\"METHADONE\"))"
   ]
  },
  {
   "cell_type": "code",
   "execution_count": 85,
   "id": "inner-plasma",
   "metadata": {},
   "outputs": [],
   "source": [
    "for i in y: \n",
    "    df.iloc[i,22]=0"
   ]
  },
  {
   "cell_type": "markdown",
   "id": "available-conservative",
   "metadata": {},
   "source": [
    "##  HALLUC : (hallucinogens/psychedelics, PCP (Angel Dust, Ozone, Wack, Rocket Fuel), MDMA (Ecstasy, XTC, X, Adam), LSD     (Acid, Boomers, Yellow Sunshine), Mushrooms,)\n",
    "\n",
    "     ### Have you used drugs other than those required for medical reasons? (column) \"Dast+AF8-1\""
   ]
  },
  {
   "cell_type": "code",
   "execution_count": 86,
   "id": "environmental-plumbing",
   "metadata": {},
   "outputs": [
    {
     "data": {
      "text/plain": [
       "5563"
      ]
     },
     "execution_count": 86,
     "metadata": {},
     "output_type": "execute_result"
    }
   ],
   "source": [
    "y=np.where( (df1['Dast+AF8-1']==0) & (df['HALLUC'].isnull()))[0]\n",
    "len(y)"
   ]
  },
  {
   "cell_type": "code",
   "execution_count": 87,
   "id": "boxed-violin",
   "metadata": {},
   "outputs": [
    {
     "name": "stdout",
     "output_type": "stream",
     "text": [
      "23\n"
     ]
    }
   ],
   "source": [
    "print(columns.get_loc(\"HALLUC\"))"
   ]
  },
  {
   "cell_type": "code",
   "execution_count": 88,
   "id": "fatal-gibson",
   "metadata": {},
   "outputs": [],
   "source": [
    "for i in y: \n",
    "    df.iloc[i,23]=0"
   ]
  },
  {
   "cell_type": "markdown",
   "id": "obvious-norman",
   "metadata": {},
   "source": [
    "## METHDAYS:  (Methamphetamine or other amphetamines (Meth, Uppers, Speed, Ice, Chalk, Crystal, Glass, Fire, Crank))\n",
    "        ### Have you used drugs other than those required for medical reasons? (column) \"Dast+AF8-1\""
   ]
  },
  {
   "cell_type": "code",
   "execution_count": 89,
   "id": "institutional-devices",
   "metadata": {},
   "outputs": [
    {
     "data": {
      "text/plain": [
       "5563"
      ]
     },
     "execution_count": 89,
     "metadata": {},
     "output_type": "execute_result"
    }
   ],
   "source": [
    "y=np.where( (df1['Dast+AF8-1']==0) & (df['METHDAYS'].isnull()))[0]\n",
    "len(y)"
   ]
  },
  {
   "cell_type": "code",
   "execution_count": 90,
   "id": "vietnamese-guatemala",
   "metadata": {},
   "outputs": [
    {
     "name": "stdout",
     "output_type": "stream",
     "text": [
      "24\n"
     ]
    }
   ],
   "source": [
    "print(columns.get_loc(\"METHDAYS\"))"
   ]
  },
  {
   "cell_type": "code",
   "execution_count": 91,
   "id": "beneficial-vault",
   "metadata": {},
   "outputs": [],
   "source": [
    "for i in y: \n",
    "    df.iloc[i,24]=0"
   ]
  },
  {
   "cell_type": "markdown",
   "id": "differential-denver",
   "metadata": {},
   "source": [
    "## OTHERDRUGS: Other illegal drugs (specify) fill in field\n",
    "      ### Have you used drugs other than those required for medical reasons? (column) \"Dast+AF8-1\""
   ]
  },
  {
   "cell_type": "code",
   "execution_count": 92,
   "id": "intense-suspension",
   "metadata": {},
   "outputs": [
    {
     "data": {
      "text/plain": [
       "5563"
      ]
     },
     "execution_count": 92,
     "metadata": {},
     "output_type": "execute_result"
    }
   ],
   "source": [
    "y=np.where( (df1['Dast+AF8-1']==0) & (df['OTHERDRUGS'].isnull()))[0]\n",
    "len(y)"
   ]
  },
  {
   "cell_type": "code",
   "execution_count": 93,
   "id": "located-lemon",
   "metadata": {},
   "outputs": [
    {
     "name": "stdout",
     "output_type": "stream",
     "text": [
      "25\n"
     ]
    }
   ],
   "source": [
    "print(columns.get_loc(\"OTHERDRUGS\"))"
   ]
  },
  {
   "cell_type": "code",
   "execution_count": 94,
   "id": "internal-cooperative",
   "metadata": {},
   "outputs": [],
   "source": [
    "for i in y: \n",
    "    df.iloc[i,25]=0"
   ]
  },
  {
   "cell_type": "code",
   "execution_count": 95,
   "id": "common-reproduction",
   "metadata": {},
   "outputs": [
    {
     "data": {
      "text/plain": [
       "BIRTH             6947\n",
       "SEX               6375\n",
       "HISPANIC          6229\n",
       "RACE              6340\n",
       "VET               5370\n",
       "ACTIVE            5370\n",
       "DEPLOY            5370\n",
       "MILFAM             778\n",
       "AUDIT             6340\n",
       "DAST              6340\n",
       "COSCREEN          6340\n",
       "SCREEN            6340\n",
       "BI                6340\n",
       "BT                6340\n",
       "RT                6340\n",
       "ANYALC            5451\n",
       "BINGEDAYS         5457\n",
       "DRUGDAYS          6424\n",
       "ALCDRUGS          5212\n",
       "DAYSCOCAINE       6368\n",
       "MARYJDAYS         6368\n",
       "ANYOPIATEDAYS     6368\n",
       "METHADONE         6368\n",
       "HALLUC            6368\n",
       "METHDAYS          6368\n",
       "OTHERDRUGS        6367\n",
       "INJECT             808\n",
       "WHERELIVE          118\n",
       "PREGNANT          4028\n",
       "CHILDREN           119\n",
       "JOBTRAIN           119\n",
       "EDUC               119\n",
       "EMPLOY             119\n",
       "INCOME             118\n",
       "ARRESTED           119\n",
       "CRIMES             119\n",
       "HEALTHSTAT         119\n",
       "ANYSEX             119\n",
       "SEXCONTACT         118\n",
       "SEXUNPROTECT       118\n",
       "EVERHIVT           117\n",
       "HIVRESULT           90\n",
       "DEPRESSDAYS        119\n",
       "ANXIETYDAYS        119\n",
       "HALLUCINATE        119\n",
       "MEMORYBAD          119\n",
       "SUICIDEATTEMPT     119\n",
       "ATTENDAA           119\n",
       "AATIMES            119\n",
       "ATTENDRELIGION     119\n",
       "RELIGIONTIMES      119\n",
       "ATTENDOTHER        119\n",
       "OTHERTIMES         119\n",
       "FAMILYINT          119\n",
       "SBIRTCONT          119\n",
       "AGE               6947\n",
       "TOBMONTH          6294\n",
       "PHQ                 83\n",
       "dtype: int64"
      ]
     },
     "execution_count": 95,
     "metadata": {},
     "output_type": "execute_result"
    }
   ],
   "source": [
    "df.notnull().sum()"
   ]
  },
  {
   "cell_type": "markdown",
   "id": "quarterly-greece",
   "metadata": {},
   "source": [
    "## INJECT: In the past 30 days, have you injected drugs?\n",
    "    ### Have you used drugs other than those required for medical reasons? (column) \"Dast+AF8-1\""
   ]
  },
  {
   "cell_type": "code",
   "execution_count": 96,
   "id": "worldwide-fellowship",
   "metadata": {},
   "outputs": [
    {
     "data": {
      "text/plain": [
       "5564"
      ]
     },
     "execution_count": 96,
     "metadata": {},
     "output_type": "execute_result"
    }
   ],
   "source": [
    "y=np.where( (df1['Dast+AF8-1']==0) & (df['INJECT'].isnull()))[0]\n",
    "len(y)"
   ]
  },
  {
   "cell_type": "code",
   "execution_count": 97,
   "id": "basic-provider",
   "metadata": {},
   "outputs": [
    {
     "name": "stdout",
     "output_type": "stream",
     "text": [
      "26\n"
     ]
    }
   ],
   "source": [
    "print(columns.get_loc(\"INJECT\"))"
   ]
  },
  {
   "cell_type": "code",
   "execution_count": 98,
   "id": "peripheral-allowance",
   "metadata": {},
   "outputs": [],
   "source": [
    "for i in y: \n",
    "    df.iloc[i,26]=0"
   ]
  },
  {
   "cell_type": "code",
   "execution_count": 99,
   "id": "corrected-penetration",
   "metadata": {},
   "outputs": [
    {
     "data": {
      "text/plain": [
       "BIRTH             6947\n",
       "SEX               6375\n",
       "HISPANIC          6229\n",
       "RACE              6340\n",
       "VET               5370\n",
       "ACTIVE            5370\n",
       "DEPLOY            5370\n",
       "MILFAM             778\n",
       "AUDIT             6340\n",
       "DAST              6340\n",
       "COSCREEN          6340\n",
       "SCREEN            6340\n",
       "BI                6340\n",
       "BT                6340\n",
       "RT                6340\n",
       "ANYALC            5451\n",
       "BINGEDAYS         5457\n",
       "DRUGDAYS          6424\n",
       "ALCDRUGS          5212\n",
       "DAYSCOCAINE       6368\n",
       "MARYJDAYS         6368\n",
       "ANYOPIATEDAYS     6368\n",
       "METHADONE         6368\n",
       "HALLUC            6368\n",
       "METHDAYS          6368\n",
       "OTHERDRUGS        6367\n",
       "INJECT            6372\n",
       "WHERELIVE          118\n",
       "PREGNANT          4028\n",
       "CHILDREN           119\n",
       "JOBTRAIN           119\n",
       "EDUC               119\n",
       "EMPLOY             119\n",
       "INCOME             118\n",
       "ARRESTED           119\n",
       "CRIMES             119\n",
       "HEALTHSTAT         119\n",
       "ANYSEX             119\n",
       "SEXCONTACT         118\n",
       "SEXUNPROTECT       118\n",
       "EVERHIVT           117\n",
       "HIVRESULT           90\n",
       "DEPRESSDAYS        119\n",
       "ANXIETYDAYS        119\n",
       "HALLUCINATE        119\n",
       "MEMORYBAD          119\n",
       "SUICIDEATTEMPT     119\n",
       "ATTENDAA           119\n",
       "AATIMES            119\n",
       "ATTENDRELIGION     119\n",
       "RELIGIONTIMES      119\n",
       "ATTENDOTHER        119\n",
       "OTHERTIMES         119\n",
       "FAMILYINT          119\n",
       "SBIRTCONT          119\n",
       "AGE               6947\n",
       "TOBMONTH          6294\n",
       "PHQ                 83\n",
       "dtype: int64"
      ]
     },
     "execution_count": 99,
     "metadata": {},
     "output_type": "execute_result"
    }
   ],
   "source": [
    "df.notnull().sum()"
   ]
  },
  {
   "cell_type": "markdown",
   "id": "least-valentine",
   "metadata": {},
   "source": [
    "# MEMORYBAD : experienced trouble understanding, concentrating, or remembering\n",
    "     ### How often during the past year have you been unable to remember what happened the night before because            you had been drinking? 'Audit+AF8-8'\n",
    "     ### Have you had \"blackouts\" or \"flashbacks\" as a result of drug use? 'Dast+AF8-3'     "
   ]
  },
  {
   "cell_type": "code",
   "execution_count": 100,
   "id": "binary-alaska",
   "metadata": {},
   "outputs": [
    {
     "data": {
      "text/plain": [
       "7"
      ]
     },
     "execution_count": 100,
     "metadata": {},
     "output_type": "execute_result"
    }
   ],
   "source": [
    "y=np.where( (df1['Audit+AF8-8']>2) & (df['MEMORYBAD'].isnull()))[0]\n",
    "len(y)"
   ]
  },
  {
   "cell_type": "code",
   "execution_count": 101,
   "id": "responsible-empty",
   "metadata": {},
   "outputs": [
    {
     "name": "stdout",
     "output_type": "stream",
     "text": [
      "45\n"
     ]
    }
   ],
   "source": [
    "print(columns.get_loc(\"MEMORYBAD\"))"
   ]
  },
  {
   "cell_type": "code",
   "execution_count": 102,
   "id": "introductory-occurrence",
   "metadata": {},
   "outputs": [],
   "source": [
    "for i in y: \n",
    "    df.iloc[i,45]=25"
   ]
  },
  {
   "cell_type": "code",
   "execution_count": 103,
   "id": "documentary-street",
   "metadata": {},
   "outputs": [
    {
     "data": {
      "text/plain": [
       "9"
      ]
     },
     "execution_count": 103,
     "metadata": {},
     "output_type": "execute_result"
    }
   ],
   "source": [
    "y=np.where( (df1['Audit+AF8-8']==2) & (df['MEMORYBAD'].isnull()))[0]\n",
    "len(y)\n"
   ]
  },
  {
   "cell_type": "code",
   "execution_count": 104,
   "id": "eastern-spending",
   "metadata": {},
   "outputs": [],
   "source": [
    "for i in y: \n",
    "    df.iloc[i,45]=20"
   ]
  },
  {
   "cell_type": "code",
   "execution_count": 105,
   "id": "productive-engagement",
   "metadata": {},
   "outputs": [
    {
     "data": {
      "text/plain": [
       "25"
      ]
     },
     "execution_count": 105,
     "metadata": {},
     "output_type": "execute_result"
    }
   ],
   "source": [
    "y=np.where( (df1['Audit+AF8-8']==1) & (df['MEMORYBAD'].isnull()))[0]\n",
    "len(y)\n"
   ]
  },
  {
   "cell_type": "code",
   "execution_count": 106,
   "id": "pointed-gateway",
   "metadata": {},
   "outputs": [],
   "source": [
    "for i in y: \n",
    "    df.iloc[i,45]=10"
   ]
  },
  {
   "cell_type": "code",
   "execution_count": 107,
   "id": "southeast-humidity",
   "metadata": {},
   "outputs": [
    {
     "data": {
      "text/plain": [
       "352"
      ]
     },
     "execution_count": 107,
     "metadata": {},
     "output_type": "execute_result"
    }
   ],
   "source": [
    "y=np.where( (df1['Dast+AF8-3']==1) & (df['MEMORYBAD'].isnull()))[0]\n",
    "len(y)"
   ]
  },
  {
   "cell_type": "code",
   "execution_count": 108,
   "id": "spiritual-reality",
   "metadata": {},
   "outputs": [],
   "source": [
    "for i in y: \n",
    "    df.iloc[i,45]=20\n",
    "    "
   ]
  },
  {
   "cell_type": "code",
   "execution_count": 109,
   "id": "voluntary-memory",
   "metadata": {},
   "outputs": [
    {
     "data": {
      "text/plain": [
       "BIRTH             6947\n",
       "SEX               6375\n",
       "HISPANIC          6229\n",
       "RACE              6340\n",
       "VET               5370\n",
       "ACTIVE            5370\n",
       "DEPLOY            5370\n",
       "MILFAM             778\n",
       "AUDIT             6340\n",
       "DAST              6340\n",
       "COSCREEN          6340\n",
       "SCREEN            6340\n",
       "BI                6340\n",
       "BT                6340\n",
       "RT                6340\n",
       "ANYALC            5451\n",
       "BINGEDAYS         5457\n",
       "DRUGDAYS          6424\n",
       "ALCDRUGS          5212\n",
       "DAYSCOCAINE       6368\n",
       "MARYJDAYS         6368\n",
       "ANYOPIATEDAYS     6368\n",
       "METHADONE         6368\n",
       "HALLUC            6368\n",
       "METHDAYS          6368\n",
       "OTHERDRUGS        6367\n",
       "INJECT            6372\n",
       "WHERELIVE          118\n",
       "PREGNANT          4028\n",
       "CHILDREN           119\n",
       "JOBTRAIN           119\n",
       "EDUC               119\n",
       "EMPLOY             119\n",
       "INCOME             118\n",
       "ARRESTED           119\n",
       "CRIMES             119\n",
       "HEALTHSTAT         119\n",
       "ANYSEX             119\n",
       "SEXCONTACT         118\n",
       "SEXUNPROTECT       118\n",
       "EVERHIVT           117\n",
       "HIVRESULT           90\n",
       "DEPRESSDAYS        119\n",
       "ANXIETYDAYS        119\n",
       "HALLUCINATE        119\n",
       "MEMORYBAD          512\n",
       "SUICIDEATTEMPT     119\n",
       "ATTENDAA           119\n",
       "AATIMES            119\n",
       "ATTENDRELIGION     119\n",
       "RELIGIONTIMES      119\n",
       "ATTENDOTHER        119\n",
       "OTHERTIMES         119\n",
       "FAMILYINT          119\n",
       "SBIRTCONT          119\n",
       "AGE               6947\n",
       "TOBMONTH          6294\n",
       "PHQ                 83\n",
       "dtype: int64"
      ]
     },
     "execution_count": 109,
     "metadata": {},
     "output_type": "execute_result"
    }
   ],
   "source": [
    "df.notnull().sum()"
   ]
  },
  {
   "cell_type": "markdown",
   "id": "other-beatles",
   "metadata": {},
   "source": [
    "## ARRESTED   CRIME\n",
    "     ### Have you or someone else been injured because of your drinking? 'Audit+AF8-9'\n",
    "     ### Have you engaged in illegal activities in order to obtain drugs? 'Dast+AF8-8' "
   ]
  },
  {
   "cell_type": "code",
   "execution_count": 110,
   "id": "solid-cloud",
   "metadata": {},
   "outputs": [
    {
     "data": {
      "text/plain": [
       "16"
      ]
     },
     "execution_count": 110,
     "metadata": {},
     "output_type": "execute_result"
    }
   ],
   "source": [
    "y=np.where( (df1['Audit+AF8-8']>1) & (df['ARRESTED'].isnull()))[0]\n",
    "len(y)"
   ]
  },
  {
   "cell_type": "code",
   "execution_count": 111,
   "id": "indian-algorithm",
   "metadata": {},
   "outputs": [
    {
     "name": "stdout",
     "output_type": "stream",
     "text": [
      "34\n"
     ]
    }
   ],
   "source": [
    "print(columns.get_loc(\"ARRESTED\"))"
   ]
  },
  {
   "cell_type": "code",
   "execution_count": 112,
   "id": "processed-glossary",
   "metadata": {},
   "outputs": [],
   "source": [
    "for i in y: \n",
    "    df.iloc[i,34]=1"
   ]
  },
  {
   "cell_type": "code",
   "execution_count": 113,
   "id": "certified-complement",
   "metadata": {},
   "outputs": [
    {
     "data": {
      "text/plain": [
       "17"
      ]
     },
     "execution_count": 113,
     "metadata": {},
     "output_type": "execute_result"
    }
   ],
   "source": [
    "y=np.where( (df1['Dast+AF8-9']==1) & (df['ARRESTED'].isnull()))[0]\n",
    "len(y)"
   ]
  },
  {
   "cell_type": "code",
   "execution_count": 114,
   "id": "major-engagement",
   "metadata": {},
   "outputs": [],
   "source": [
    "for i in y: \n",
    "    df.iloc[i,34]=1"
   ]
  },
  {
   "cell_type": "markdown",
   "id": "assured-locator",
   "metadata": {},
   "source": [
    "### Matched  EVERHIVT   ANYSEX   SEXCONTACT SEXUNPROTECT HIVRESULT"
   ]
  },
  {
   "cell_type": "code",
   "execution_count": 115,
   "id": "mathematical-motivation",
   "metadata": {},
   "outputs": [
    {
     "name": "stdout",
     "output_type": "stream",
     "text": [
      "40\n",
      "41\n"
     ]
    },
    {
     "data": {
      "text/plain": [
       "0"
      ]
     },
     "execution_count": 115,
     "metadata": {},
     "output_type": "execute_result"
    }
   ],
   "source": [
    "print(columns.get_loc(\"EVERHIVT\"))\n",
    "print(columns.get_loc(\"HIVRESULT\"))\n",
    "sex=np.where((df['EVERHIVT'].isnull()) & (df['HIVRESULT'].notnull()))[0] \n",
    "len(sex)"
   ]
  },
  {
   "cell_type": "code",
   "execution_count": 116,
   "id": "royal-movie",
   "metadata": {},
   "outputs": [
    {
     "data": {
      "text/plain": [
       "0"
      ]
     },
     "execution_count": 116,
     "metadata": {},
     "output_type": "execute_result"
    }
   ],
   "source": [
    "sex=np.where((df['ANYSEX'].isnull()) & (df['HIVRESULT'].notnull()))[0] \n",
    "len(sex)"
   ]
  },
  {
   "cell_type": "code",
   "execution_count": 117,
   "id": "saved-invite",
   "metadata": {},
   "outputs": [
    {
     "data": {
      "text/plain": [
       "0"
      ]
     },
     "execution_count": 117,
     "metadata": {},
     "output_type": "execute_result"
    }
   ],
   "source": [
    "sex=np.where((df['SEXCONTACT'].isnull()) & (df['HIVRESULT'].notnull()))[0] \n",
    "len(sex)"
   ]
  },
  {
   "cell_type": "code",
   "execution_count": 119,
   "id": "integral-cotton",
   "metadata": {},
   "outputs": [
    {
     "data": {
      "text/plain": [
       "85"
      ]
     },
     "execution_count": 119,
     "metadata": {},
     "output_type": "execute_result"
    }
   ],
   "source": [
    "sex=np.where(df['HIVRESULT']==1)[0] \n",
    "len(sex)"
   ]
  },
  {
   "cell_type": "code",
   "execution_count": 120,
   "id": "numeric-discharge",
   "metadata": {},
   "outputs": [
    {
     "data": {
      "text/plain": [
       "5"
      ]
     },
     "execution_count": 120,
     "metadata": {},
     "output_type": "execute_result"
    }
   ],
   "source": [
    "sex=np.where(df['HIVRESULT']==0)[0] \n",
    "len(sex)"
   ]
  },
  {
   "cell_type": "code",
   "execution_count": 121,
   "id": "opening-campbell",
   "metadata": {},
   "outputs": [
    {
     "data": {
      "text/plain": [
       "0"
      ]
     },
     "execution_count": 121,
     "metadata": {},
     "output_type": "execute_result"
    }
   ],
   "source": [
    "sex=np.where((df['SEXUNPROTECT'].isnull()) & (df['HIVRESULT'].notnull()))[0] \n",
    "len(sex)"
   ]
  },
  {
   "cell_type": "code",
   "execution_count": 123,
   "id": "wireless-darwin",
   "metadata": {},
   "outputs": [
    {
     "data": {
      "text/plain": [
       "1"
      ]
     },
     "execution_count": 123,
     "metadata": {},
     "output_type": "execute_result"
    }
   ],
   "source": [
    "sex=np.where((df['SEXUNPROTECT']==1) & (df['HIVRESULT']==0))[0] \n",
    "len(sex)"
   ]
  },
  {
   "cell_type": "code",
   "execution_count": 124,
   "id": "latter-delaware",
   "metadata": {},
   "outputs": [
    {
     "data": {
      "text/plain": [
       "11"
      ]
     },
     "execution_count": 124,
     "metadata": {},
     "output_type": "execute_result"
    }
   ],
   "source": [
    "sex=np.where((df['SEXUNPROTECT']==1) & (df['HIVRESULT']==1))[0] \n",
    "len(sex)"
   ]
  },
  {
   "cell_type": "code",
   "execution_count": 125,
   "id": "weighted-trick",
   "metadata": {},
   "outputs": [
    {
     "data": {
      "text/plain": [
       "47"
      ]
     },
     "execution_count": 125,
     "metadata": {},
     "output_type": "execute_result"
    }
   ],
   "source": [
    "sex=np.where((df['SEXUNPROTECT']==0) & (df['HIVRESULT']==1))[0] \n",
    "len(sex)"
   ]
  },
  {
   "cell_type": "markdown",
   "id": "suitable-classification",
   "metadata": {},
   "source": [
    "### matched   DEPRESSDAYS   ANXIETYDAYS  HALLUCINATE  \n",
    "\n",
    "    ## DEPRESSDAYS    experienced depression\n",
    "    \n",
    "    ## ANXIETYDAYS   experienced serious anxiety or tension\n",
    "   \n",
    "    ## HALLUCINATE (in days)  experienced hallucinations\n",
    "       \n",
    "    ### Do you ever feel bad or guilty about your drug use? If never use drugs, choose \"No.\" 'Dast+AF8-5' \n",
    "    ### How often during the past year have you had a feeling of guilt or remorse after drinking? 'Audit+AF8-7'\n",
    "    \n",
    "    ## 'PHQ+AF8-1',\n",
    "     ### 'PHQ+AF8-2',\n",
    "     ### 'PHQ+AF8-3',\n",
    "     ### 'PHQ+AF8-4',\n",
    "     ### 'PHQ+AF8-5',\n",
    "     ### 'PHQ+AF8-6',\n",
    "     ### 'PHQ+AF8-7',\n",
    "     ### 'PHQ+AF8-8',\n",
    "     ### 'PHQ+AF8-9',"
   ]
  },
  {
   "cell_type": "code",
   "execution_count": 126,
   "id": "metallic-alabama",
   "metadata": {},
   "outputs": [
    {
     "name": "stdout",
     "output_type": "stream",
     "text": [
      "42\n",
      "43\n",
      "44\n"
     ]
    }
   ],
   "source": [
    "print(columns.get_loc(\"DEPRESSDAYS\"))\n",
    "print(columns.get_loc(\"ANXIETYDAYS\"))\n",
    "print(columns.get_loc(\"HALLUCINATE\"))"
   ]
  },
  {
   "cell_type": "code",
   "execution_count": 127,
   "id": "collaborative-uncle",
   "metadata": {},
   "outputs": [
    {
     "name": "stdout",
     "output_type": "stream",
     "text": [
      "79\n",
      "80\n",
      "81\n"
     ]
    }
   ],
   "source": [
    "print(columns1.get_loc(\"PHQ+AF8-1\"))\n",
    "print(columns1.get_loc(\"PHQ+AF8-2\"))\n",
    "print(columns1.get_loc(\"PHQ+AF8-3\"))"
   ]
  },
  {
   "cell_type": "code",
   "execution_count": 130,
   "id": "positive-lender",
   "metadata": {},
   "outputs": [
    {
     "data": {
      "text/plain": [
       "436"
      ]
     },
     "execution_count": 130,
     "metadata": {},
     "output_type": "execute_result"
    }
   ],
   "source": [
    "anx=np.where((df1['Dast+AF8-5'].notnull()) & (df['ANXIETYDAYS'].isnull()))[0] \n",
    "len(anx)"
   ]
  },
  {
   "cell_type": "code",
   "execution_count": 131,
   "id": "dimensional-equilibrium",
   "metadata": {},
   "outputs": [
    {
     "data": {
      "text/plain": [
       "48"
      ]
     },
     "execution_count": 131,
     "metadata": {},
     "output_type": "execute_result"
    }
   ],
   "source": [
    "anx=np.where((df1['Dast+AF8-5']==1) & (df['ANXIETYDAYS'].isnull()))[0] \n",
    "len(anx)"
   ]
  },
  {
   "cell_type": "code",
   "execution_count": 132,
   "id": "proved-mobile",
   "metadata": {},
   "outputs": [],
   "source": [
    "for i in anx: \n",
    "    df.iloc[i,43]=10"
   ]
  },
  {
   "cell_type": "code",
   "execution_count": 133,
   "id": "seventh-exhibition",
   "metadata": {},
   "outputs": [
    {
     "data": {
      "text/plain": [
       "260"
      ]
     },
     "execution_count": 133,
     "metadata": {},
     "output_type": "execute_result"
    }
   ],
   "source": [
    "anx=np.where((df1['Audit+AF8-7'].notnull()) & (df['ANXIETYDAYS'].isnull()))[0] \n",
    "len(anx)"
   ]
  },
  {
   "cell_type": "code",
   "execution_count": 134,
   "id": "green-somalia",
   "metadata": {},
   "outputs": [
    {
     "data": {
      "text/plain": [
       "8"
      ]
     },
     "execution_count": 134,
     "metadata": {},
     "output_type": "execute_result"
    }
   ],
   "source": [
    "anx=np.where((df1['Audit+AF8-7']>=2) & (df['ANXIETYDAYS'].isnull()))[0] \n",
    "len(anx)"
   ]
  },
  {
   "cell_type": "code",
   "execution_count": 135,
   "id": "answering-dakota",
   "metadata": {},
   "outputs": [
    {
     "data": {
      "text/plain": [
       "36"
      ]
     },
     "execution_count": 135,
     "metadata": {},
     "output_type": "execute_result"
    }
   ],
   "source": [
    "anx=np.where((df1['PHQ+AF8-1']>=2) & (df['ANXIETYDAYS'].isnull()))[0] \n",
    "len(anx)"
   ]
  },
  {
   "cell_type": "code",
   "execution_count": 136,
   "id": "ruled-raleigh",
   "metadata": {},
   "outputs": [
    {
     "data": {
      "text/plain": [
       "37"
      ]
     },
     "execution_count": 136,
     "metadata": {},
     "output_type": "execute_result"
    }
   ],
   "source": [
    "anx=np.where((df1['PHQ+AF8-2']>=2) & (df['ANXIETYDAYS'].isnull()))[0] \n",
    "len(anx)"
   ]
  },
  {
   "cell_type": "code",
   "execution_count": 137,
   "id": "uniform-center",
   "metadata": {},
   "outputs": [
    {
     "data": {
      "text/plain": [
       "27"
      ]
     },
     "execution_count": 137,
     "metadata": {},
     "output_type": "execute_result"
    }
   ],
   "source": [
    "anx=np.where((df1['PHQ+AF8-3']>=2) & (df['ANXIETYDAYS'].isnull()))[0] \n",
    "len(anx)"
   ]
  },
  {
   "cell_type": "code",
   "execution_count": 138,
   "id": "imperial-mortgage",
   "metadata": {},
   "outputs": [
    {
     "data": {
      "text/plain": [
       "19"
      ]
     },
     "execution_count": 138,
     "metadata": {},
     "output_type": "execute_result"
    }
   ],
   "source": [
    "anx=np.where((df1['PHQ+AF8-4']>=2) & (df['ANXIETYDAYS'].isnull()))[0] \n",
    "len(anx)"
   ]
  },
  {
   "cell_type": "code",
   "execution_count": 139,
   "id": "plain-broadway",
   "metadata": {},
   "outputs": [
    {
     "data": {
      "text/plain": [
       "15"
      ]
     },
     "execution_count": 139,
     "metadata": {},
     "output_type": "execute_result"
    }
   ],
   "source": [
    "anx=np.where((df1['PHQ+AF8-5']>=2) & (df['ANXIETYDAYS'].isnull()))[0] \n",
    "len(anx)"
   ]
  },
  {
   "cell_type": "code",
   "execution_count": 140,
   "id": "tight-western",
   "metadata": {},
   "outputs": [
    {
     "data": {
      "text/plain": [
       "13"
      ]
     },
     "execution_count": 140,
     "metadata": {},
     "output_type": "execute_result"
    }
   ],
   "source": [
    "anx=np.where((df1['PHQ+AF8-6']>=2) & (df['ANXIETYDAYS'].isnull()))[0] \n",
    "len(anx)"
   ]
  },
  {
   "cell_type": "code",
   "execution_count": 141,
   "id": "french-purchase",
   "metadata": {},
   "outputs": [
    {
     "data": {
      "text/plain": [
       "11"
      ]
     },
     "execution_count": 141,
     "metadata": {},
     "output_type": "execute_result"
    }
   ],
   "source": [
    "anx=np.where((df1['PHQ+AF8-7']>=2) & (df['ANXIETYDAYS'].isnull()))[0] \n",
    "len(anx)"
   ]
  },
  {
   "cell_type": "code",
   "execution_count": 142,
   "id": "legendary-passage",
   "metadata": {},
   "outputs": [
    {
     "data": {
      "text/plain": [
       "7"
      ]
     },
     "execution_count": 142,
     "metadata": {},
     "output_type": "execute_result"
    }
   ],
   "source": [
    "anx=np.where((df1['PHQ+AF8-8']>=2) & (df['ANXIETYDAYS'].isnull()))[0] \n",
    "len(anx)"
   ]
  },
  {
   "cell_type": "code",
   "execution_count": 143,
   "id": "artificial-insurance",
   "metadata": {},
   "outputs": [
    {
     "data": {
      "text/plain": [
       "1"
      ]
     },
     "execution_count": 143,
     "metadata": {},
     "output_type": "execute_result"
    }
   ],
   "source": [
    "anx=np.where((df1['PHQ+AF8-9']>=2) & (df['ANXIETYDAYS'].isnull()))[0] \n",
    "len(anx)"
   ]
  },
  {
   "cell_type": "markdown",
   "id": "regional-rainbow",
   "metadata": {},
   "source": [
    "### ATTENDAA    AATIMES   \n",
    "    #### attended a self help group like AA (Alcoholics Anonymous (AA)) in past month   \n",
    "     ### questions are related to 1) How often do you have a drink containing alcohol? (column: 'Audit+AF8-1' )\n",
    "     ### How many drinks containing alcohol do you have on a typical day you are drinking? ('Audit+AF8-3)\n",
    "    ### 3) How often do you have X (5 for men; 4 for women and men over age 65) or more drinks on one occasion?        (column: 'Audit+AF8-3' )\n",
    "    \n",
    "    #### BI – received brief intervention :  received brief treatment"
   ]
  },
  {
   "cell_type": "code",
   "execution_count": 147,
   "id": "stable-oklahoma",
   "metadata": {},
   "outputs": [
    {
     "data": {
      "text/plain": [
       "729"
      ]
     },
     "execution_count": 147,
     "metadata": {},
     "output_type": "execute_result"
    }
   ],
   "source": [
    "att=np.where((df1['Audit+AF8-1']>2) & (df['ATTENDAA'].isnull()))[0] \n",
    "len(att)"
   ]
  },
  {
   "cell_type": "code",
   "execution_count": 159,
   "id": "first-blast",
   "metadata": {},
   "outputs": [
    {
     "data": {
      "text/plain": [
       "123"
      ]
     },
     "execution_count": 159,
     "metadata": {},
     "output_type": "execute_result"
    }
   ],
   "source": [
    "att=np.where((df['BI']==1) &(df1['Audit+AF8-3']>1) & (df['ATTENDAA'].isnull()))[0] \n",
    "len(att)"
   ]
  },
  {
   "cell_type": "code",
   "execution_count": 153,
   "id": "revolutionary-mongolia",
   "metadata": {},
   "outputs": [
    {
     "data": {
      "text/plain": [
       "5"
      ]
     },
     "execution_count": 153,
     "metadata": {},
     "output_type": "execute_result"
    }
   ],
   "source": [
    "att=np.where((df1['Audit+AF8-3']>3) & (df['ATTENDAA']==1))[0] \n",
    "len(att)"
   ]
  },
  {
   "cell_type": "code",
   "execution_count": 154,
   "id": "better-continent",
   "metadata": {},
   "outputs": [
    {
     "data": {
      "text/plain": [
       "18"
      ]
     },
     "execution_count": 154,
     "metadata": {},
     "output_type": "execute_result"
    }
   ],
   "source": [
    "att=np.where((df1['Audit+AF8-3']>3) & (df['ATTENDAA']==0))[0] \n",
    "len(att)"
   ]
  },
  {
   "cell_type": "markdown",
   "id": "requested-section",
   "metadata": {},
   "source": [
    "## ATTENDRELIGION  RELIGIONTIMES "
   ]
  },
  {
   "cell_type": "markdown",
   "id": "technical-marriage",
   "metadata": {},
   "source": [
    "## ATTENDOTHER     OTHERTIMES "
   ]
  },
  {
   "cell_type": "markdown",
   "id": "republican-privacy",
   "metadata": {},
   "source": [
    "    \n",
    "## FAMILYINT        SBIRTCONT   "
   ]
  },
  {
   "cell_type": "code",
   "execution_count": 164,
   "id": "chinese-crest",
   "metadata": {},
   "outputs": [
    {
     "data": {
      "text/plain": [
       "115"
      ]
     },
     "execution_count": 164,
     "metadata": {},
     "output_type": "execute_result"
    }
   ],
   "source": [
    "att=np.where((df1['Audit+AF8-1']>3) & (df['BI']==1))[0] \n",
    "len(att)"
   ]
  },
  {
   "cell_type": "code",
   "execution_count": 165,
   "id": "legislative-poison",
   "metadata": {},
   "outputs": [
    {
     "data": {
      "text/plain": [
       "287"
      ]
     },
     "execution_count": 165,
     "metadata": {},
     "output_type": "execute_result"
    }
   ],
   "source": [
    "att=np.where((df1['Audit+AF8-1']>3) & (df['RT']==0))[0] \n",
    "len(att)"
   ]
  },
  {
   "cell_type": "code",
   "execution_count": 166,
   "id": "remarkable-providence",
   "metadata": {},
   "outputs": [
    {
     "data": {
      "text/plain": [
       "8"
      ]
     },
     "execution_count": 166,
     "metadata": {},
     "output_type": "execute_result"
    }
   ],
   "source": [
    "att=np.where((df1['Audit+AF8-1']>4) & (df['RT']==1))[0] \n",
    "len(att)"
   ]
  },
  {
   "cell_type": "code",
   "execution_count": null,
   "id": "alive-softball",
   "metadata": {},
   "outputs": [],
   "source": []
  }
 ],
 "metadata": {
  "kernelspec": {
   "display_name": "Python 3 (ipykernel)",
   "language": "python",
   "name": "python3"
  },
  "language_info": {
   "codemirror_mode": {
    "name": "ipython",
    "version": 3
   },
   "file_extension": ".py",
   "mimetype": "text/x-python",
   "name": "python",
   "nbconvert_exporter": "python",
   "pygments_lexer": "ipython3",
   "version": "3.9.7"
  }
 },
 "nbformat": 4,
 "nbformat_minor": 5
}
